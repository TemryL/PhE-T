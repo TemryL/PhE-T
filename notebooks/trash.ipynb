{
 "cells": [
  {
   "cell_type": "code",
   "execution_count": 3,
   "metadata": {},
   "outputs": [
    {
     "name": "stderr",
     "output_type": "stream",
     "text": [
      "/tmp/ipykernel_21782/3161387479.py:5: FutureWarning: You are using `torch.load` with `weights_only=False` (the current default value), which uses the default pickle module implicitly. It is possible to construct malicious pickle data which will execute arbitrary code during unpickling (See https://github.com/pytorch/pytorch/blob/main/SECURITY.md#untrusted-models for more details). In a future release, the default value for `weights_only` will be flipped to `True`. This limits the functions that could be executed during unpickling. Arbitrary objects will no longer be allowed to be loaded via this mode unless they are explicitly allowlisted by the user via `torch.serialization.add_safe_globals`. We recommend you start setting `weights_only=True` for any use case where you don't have full control of the loaded file. Please open an issue on GitHub for any issues related to this experimental feature.\n",
      "  checkpoint = torch.load('/n/groups/patel/tom/PhE-T/ckpts/PhE-T/v0/best-epoch=3-step=3842.ckpt', map_location=torch.device('cpu'))\n"
     ]
    }
   ],
   "source": [
    "import torch\n",
    "import sys\n",
    "sys.path.append('..')\n",
    "\n",
    "checkpoint = torch.load('/n/groups/patel/tom/PhE-T/ckpts/PhE-T/v0/best-epoch=3-step=3842.ckpt', map_location=torch.device('cpu'))\n",
    "tokenizer = checkpoint['hyper_parameters']['tokenizer']"
   ]
  },
  {
   "cell_type": "code",
   "execution_count": null,
   "metadata": {},
   "outputs": [],
   "source": []
  },
  {
   "cell_type": "code",
   "execution_count": 4,
   "metadata": {},
   "outputs": [
    {
     "data": {
      "text/plain": [
       "{0: 'Special tokens',\n",
       " 1: 'BMI',\n",
       " 2: 'HDL cholesterol',\n",
       " 3: 'LDL cholesterol',\n",
       " 4: 'Total cholesterol',\n",
       " 5: 'Triglycerides',\n",
       " 6: 'Diastolic blood pressure',\n",
       " 7: 'Age',\n",
       " 8: 'Sex',\n",
       " 9: 'Ever smoked',\n",
       " 10: 'Snoring',\n",
       " 11: 'Insomnia',\n",
       " 12: 'Daytime napping',\n",
       " 13: 'Chronotype',\n",
       " 14: 'Sleep duration',\n",
       " 15: 'Asthma',\n",
       " 16: 'Cataract',\n",
       " 17: 'Diabetes',\n",
       " 18: 'GERD',\n",
       " 19: 'Hay-fever & Eczema',\n",
       " 20: 'Major depression',\n",
       " 21: 'Myocardial infarction',\n",
       " 22: 'Osteoarthritis',\n",
       " 23: 'Pneumonia',\n",
       " 24: 'Stroke'}"
      ]
     },
     "execution_count": 4,
     "metadata": {},
     "output_type": "execute_result"
    }
   ],
   "source": [
    "tokenizer.p_name_map"
   ]
  },
  {
   "cell_type": "code",
   "execution_count": 87,
   "metadata": {},
   "outputs": [
    {
     "name": "stderr",
     "output_type": "stream",
     "text": [
      "Tokenize data: 100%|██████████| 7453/7453 [00:02<00:00, 3411.89it/s]\n"
     ]
    }
   ],
   "source": [
    "num_features = [\n",
    "    'BMI',\n",
    "    'HDL cholesterol',\n",
    "    'LDL cholesterol',\n",
    "    'Total cholesterol',\n",
    "    'Triglycerides',\n",
    "    'Diastolic blood pressure'\n",
    "]\n",
    "cat_features = [\n",
    "    'Age',\n",
    "    'Sex',\n",
    "    'Ever smoked',\n",
    "    'Snoring',\n",
    "    'Insomnia',\n",
    "    'Daytime napping',\n",
    "    'Chronotype',\n",
    "    'Sleep duration',\n",
    "]\n",
    "\n",
    "tab_path = '../data/val.csv'\n",
    "spiro_path = '../data/val_spiro.pkl'\n",
    "features = num_features + cat_features\n",
    "dataset = TabSpiroDataset(tab_path, spiro_path, features, tokenizer)\n",
    "data_loader = DataLoader(\n",
    "    dataset,\n",
    "    batch_size = 16,\n",
    "    shuffle = False,\n",
    "    num_workers = 1,\n",
    "    pin_memory = False\n",
    ")"
   ]
  },
  {
   "cell_type": "code",
   "execution_count": 88,
   "metadata": {},
   "outputs": [],
   "source": [
    "for x in data_loader:\n",
    "    batch = x\n",
    "    break"
   ]
  },
  {
   "cell_type": "code",
   "execution_count": 89,
   "metadata": {},
   "outputs": [
    {
     "data": {
      "text/plain": [
       "tensor([0, 0, 0, 0, 0, 0, 0, 0, 0, 0, 1, 0, 0, 1, 0, 1])"
      ]
     },
     "execution_count": 89,
     "metadata": {},
     "output_type": "execute_result"
    }
   ],
   "source": [
    "batch['label']"
   ]
  },
  {
   "cell_type": "code",
   "execution_count": 77,
   "metadata": {},
   "outputs": [],
   "source": [
    "import torch.nn as nn\n",
    "from torch.nn import functional as F\n",
    "from src.phet import PhET\n",
    "from src.resnet import ResNet18D1D\n",
    "\n",
    "\n",
    "\n",
    "        "
   ]
  },
  {
   "cell_type": "code",
   "execution_count": 78,
   "metadata": {},
   "outputs": [
    {
     "name": "stderr",
     "output_type": "stream",
     "text": [
      "/tmp/ipykernel_23984/3533138689.py:11: FutureWarning: You are using `torch.load` with `weights_only=False` (the current default value), which uses the default pickle module implicitly. It is possible to construct malicious pickle data which will execute arbitrary code during unpickling (See https://github.com/pytorch/pytorch/blob/main/SECURITY.md#untrusted-models for more details). In a future release, the default value for `weights_only` will be flipped to `True`. This limits the functions that could be executed during unpickling. Arbitrary objects will no longer be allowed to be loaded via this mode unless they are explicitly allowlisted by the user via `torch.serialization.add_safe_globals`. We recommend you start setting `weights_only=True` for any use case where you don't have full control of the loaded file. Please open an issue on GitHub for any issues related to this experimental feature.\n",
      "  checkpoint = torch.load(ckpt_phet, map_location=torch.device('cpu'))\n",
      "/n/groups/patel/tom/PhE-T/notebooks/../src/phet.py:184: FutureWarning: You are using `torch.load` with `weights_only=False` (the current default value), which uses the default pickle module implicitly. It is possible to construct malicious pickle data which will execute arbitrary code during unpickling (See https://github.com/pytorch/pytorch/blob/main/SECURITY.md#untrusted-models for more details). In a future release, the default value for `weights_only` will be flipped to `True`. This limits the functions that could be executed during unpickling. Arbitrary objects will no longer be allowed to be loaded via this mode unless they are explicitly allowlisted by the user via `torch.serialization.add_safe_globals`. We recommend you start setting `weights_only=True` for any use case where you don't have full control of the loaded file. Please open an issue on GitHub for any issues related to this experimental feature.\n",
      "  checkpoint = torch.load(ckpt_path, map_location=torch.device('cpu'))\n",
      "/n/groups/patel/tom/PhE-T/notebooks/../src/resnet.py:106: FutureWarning: You are using `torch.load` with `weights_only=False` (the current default value), which uses the default pickle module implicitly. It is possible to construct malicious pickle data which will execute arbitrary code during unpickling (See https://github.com/pytorch/pytorch/blob/main/SECURITY.md#untrusted-models for more details). In a future release, the default value for `weights_only` will be flipped to `True`. This limits the functions that could be executed during unpickling. Arbitrary objects will no longer be allowed to be loaded via this mode unless they are explicitly allowlisted by the user via `torch.serialization.add_safe_globals`. We recommend you start setting `weights_only=True` for any use case where you don't have full control of the loaded file. Please open an issue on GitHub for any issues related to this experimental feature.\n",
      "  checkpoint = torch.load(ckpt_path, map_location=torch.device('cpu'))\n"
     ]
    }
   ],
   "source": [
    "ckpt_phet = '/n/groups/patel/tom/PhE-T/ckpts/PhE-T/v0/best-epoch=3-step=3842.ckpt'\n",
    "ckpt_resnet = '/n/groups/patel/tom/PhE-T/ckpts/AsthmaResNet/v2/best-epoch=7-step=3650.ckpt'\n",
    "model = AsthmaPhET(ckpt_phet, ckpt_resnet, freeze_phet=True, freeze_resnet=True)"
   ]
  },
  {
   "cell_type": "code",
   "execution_count": 79,
   "metadata": {},
   "outputs": [
    {
     "data": {
      "text/plain": [
       "{'loss': tensor(12.0613, grad_fn=<NllLossBackward0>),\n",
       " 'logits': tensor([[-0.1596, -0.5027, -0.9349,  ...,  2.7880,  0.8484,  0.9928],\n",
       "         [ 0.2341, -0.2763, -0.5157,  ...,  1.9422,  1.0593,  0.3096],\n",
       "         [ 0.5305,  0.2170,  0.5540,  ...,  2.6339,  1.8237,  0.2373],\n",
       "         ...,\n",
       "         [ 0.2653, -1.5970, -1.7812,  ...,  3.0984,  1.4356,  0.7236],\n",
       "         [ 0.0892, -1.5520, -1.8103,  ...,  4.1489,  2.3216,  2.1648],\n",
       "         [ 0.0329, -0.6312, -0.3315,  ...,  3.8841,  1.7249,  1.2385]],\n",
       "        grad_fn=<IndexBackward0>),\n",
       " 'score': tensor([0.2772, 0.3211, 0.1903, 0.1311, 0.1617, 0.1482, 0.2380, 0.1705, 0.1924,\n",
       "         0.1562, 0.1076, 0.2286, 0.1310, 0.2151, 0.1680, 0.1553],\n",
       "        grad_fn=<DivBackward0>)}"
      ]
     },
     "execution_count": 79,
     "metadata": {},
     "output_type": "execute_result"
    }
   ],
   "source": [
    "model(value_ids=batch['value_ids'], phenotype_ids=batch['phenotype_ids'], flow_volume=batch['flow_volume'].unsqueeze(1), mask=batch['mask'])"
   ]
  }
 ],
 "metadata": {
  "kernelspec": {
   "display_name": "HeLM",
   "language": "python",
   "name": "python3"
  },
  "language_info": {
   "codemirror_mode": {
    "name": "ipython",
    "version": 3
   },
   "file_extension": ".py",
   "mimetype": "text/x-python",
   "name": "python",
   "nbconvert_exporter": "python",
   "pygments_lexer": "ipython3",
   "version": "3.11.8"
  }
 },
 "nbformat": 4,
 "nbformat_minor": 2
}
